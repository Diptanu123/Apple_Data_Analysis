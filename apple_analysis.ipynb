{
  "cells": [
    {
      "cell_type": "code",
      "execution_count": 2,
      "metadata": {
        "id": "e6aKAGihkXMC"
      },
      "outputs": [],
      "source": [
        "import pandas as pd\n",
        "import numpy as np\n",
        "import matplotlib.pyplot as plt\n",
        "import seaborn as sns"
      ]
    },
    {
      "cell_type": "code",
      "execution_count": 3,
      "metadata": {
        "id": "PWFbCnLukdc1"
      },
      "outputs": [
        {
          "data": {
            "text/html": [
              "<div>\n",
              "<style scoped>\n",
              "    .dataframe tbody tr th:only-of-type {\n",
              "        vertical-align: middle;\n",
              "    }\n",
              "\n",
              "    .dataframe tbody tr th {\n",
              "        vertical-align: top;\n",
              "    }\n",
              "\n",
              "    .dataframe thead th {\n",
              "        text-align: right;\n",
              "    }\n",
              "</style>\n",
              "<table border=\"1\" class=\"dataframe\">\n",
              "  <thead>\n",
              "    <tr style=\"text-align: right;\">\n",
              "      <th></th>\n",
              "      <th>Date</th>\n",
              "      <th>AAPL.Open</th>\n",
              "      <th>AAPL.High</th>\n",
              "      <th>AAPL.Low</th>\n",
              "      <th>AAPL.Close</th>\n",
              "      <th>AAPL.Volume</th>\n",
              "      <th>AAPL.Adjusted</th>\n",
              "      <th>dn</th>\n",
              "      <th>mavg</th>\n",
              "      <th>up</th>\n",
              "      <th>direction</th>\n",
              "    </tr>\n",
              "  </thead>\n",
              "  <tbody>\n",
              "    <tr>\n",
              "      <th>0</th>\n",
              "      <td>2015-02-17</td>\n",
              "      <td>127.489998</td>\n",
              "      <td>128.880005</td>\n",
              "      <td>126.919998</td>\n",
              "      <td>127.830002</td>\n",
              "      <td>63152400</td>\n",
              "      <td>122.905254</td>\n",
              "      <td>106.741052</td>\n",
              "      <td>117.927667</td>\n",
              "      <td>129.114281</td>\n",
              "      <td>Increasing</td>\n",
              "    </tr>\n",
              "    <tr>\n",
              "      <th>1</th>\n",
              "      <td>2015-02-18</td>\n",
              "      <td>127.629997</td>\n",
              "      <td>128.779999</td>\n",
              "      <td>127.449997</td>\n",
              "      <td>128.720001</td>\n",
              "      <td>44891700</td>\n",
              "      <td>123.760965</td>\n",
              "      <td>107.842423</td>\n",
              "      <td>118.940333</td>\n",
              "      <td>130.038244</td>\n",
              "      <td>Increasing</td>\n",
              "    </tr>\n",
              "    <tr>\n",
              "      <th>2</th>\n",
              "      <td>2015-02-19</td>\n",
              "      <td>128.479996</td>\n",
              "      <td>129.029999</td>\n",
              "      <td>128.330002</td>\n",
              "      <td>128.449997</td>\n",
              "      <td>37362400</td>\n",
              "      <td>123.501363</td>\n",
              "      <td>108.894245</td>\n",
              "      <td>119.889167</td>\n",
              "      <td>130.884089</td>\n",
              "      <td>Decreasing</td>\n",
              "    </tr>\n",
              "    <tr>\n",
              "      <th>3</th>\n",
              "      <td>2015-02-20</td>\n",
              "      <td>128.619995</td>\n",
              "      <td>129.500000</td>\n",
              "      <td>128.050003</td>\n",
              "      <td>129.500000</td>\n",
              "      <td>48948400</td>\n",
              "      <td>124.510914</td>\n",
              "      <td>109.785449</td>\n",
              "      <td>120.763500</td>\n",
              "      <td>131.741551</td>\n",
              "      <td>Increasing</td>\n",
              "    </tr>\n",
              "    <tr>\n",
              "      <th>4</th>\n",
              "      <td>2015-02-23</td>\n",
              "      <td>130.020004</td>\n",
              "      <td>133.000000</td>\n",
              "      <td>129.660004</td>\n",
              "      <td>133.000000</td>\n",
              "      <td>70974100</td>\n",
              "      <td>127.876074</td>\n",
              "      <td>110.372516</td>\n",
              "      <td>121.720167</td>\n",
              "      <td>133.067817</td>\n",
              "      <td>Increasing</td>\n",
              "    </tr>\n",
              "  </tbody>\n",
              "</table>\n",
              "</div>"
            ],
            "text/plain": [
              "         Date   AAPL.Open   AAPL.High    AAPL.Low  AAPL.Close  AAPL.Volume  \\\n",
              "0  2015-02-17  127.489998  128.880005  126.919998  127.830002     63152400   \n",
              "1  2015-02-18  127.629997  128.779999  127.449997  128.720001     44891700   \n",
              "2  2015-02-19  128.479996  129.029999  128.330002  128.449997     37362400   \n",
              "3  2015-02-20  128.619995  129.500000  128.050003  129.500000     48948400   \n",
              "4  2015-02-23  130.020004  133.000000  129.660004  133.000000     70974100   \n",
              "\n",
              "   AAPL.Adjusted          dn        mavg          up   direction  \n",
              "0     122.905254  106.741052  117.927667  129.114281  Increasing  \n",
              "1     123.760965  107.842423  118.940333  130.038244  Increasing  \n",
              "2     123.501363  108.894245  119.889167  130.884089  Decreasing  \n",
              "3     124.510914  109.785449  120.763500  131.741551  Increasing  \n",
              "4     127.876074  110.372516  121.720167  133.067817  Increasing  "
            ]
          },
          "execution_count": 3,
          "metadata": {},
          "output_type": "execute_result"
        }
      ],
      "source": [
        "df = pd.read_csv('finance-charts-apple.csv')\n",
        "df.head()\n"
      ]
    },
    {
      "cell_type": "code",
      "execution_count": 4,
      "metadata": {
        "colab": {
          "base_uri": "https://localhost:8080/"
        },
        "id": "fXVfgv_rkgsx",
        "outputId": "ebc56983-e08e-4243-c63d-b43fc80d373e"
      },
      "outputs": [
        {
          "name": "stdout",
          "output_type": "stream",
          "text": [
            "<class 'pandas.core.frame.DataFrame'>\n",
            "RangeIndex: 506 entries, 0 to 505\n",
            "Data columns (total 11 columns):\n",
            " #   Column         Non-Null Count  Dtype  \n",
            "---  ------         --------------  -----  \n",
            " 0   Date           506 non-null    object \n",
            " 1   AAPL.Open      506 non-null    float64\n",
            " 2   AAPL.High      506 non-null    float64\n",
            " 3   AAPL.Low       506 non-null    float64\n",
            " 4   AAPL.Close     506 non-null    float64\n",
            " 5   AAPL.Volume    506 non-null    int64  \n",
            " 6   AAPL.Adjusted  506 non-null    float64\n",
            " 7   dn             506 non-null    float64\n",
            " 8   mavg           506 non-null    float64\n",
            " 9   up             506 non-null    float64\n",
            " 10  direction      506 non-null    object \n",
            "dtypes: float64(8), int64(1), object(2)\n",
            "memory usage: 43.6+ KB\n"
          ]
        }
      ],
      "source": [
        "df.info()"
      ]
    },
    {
      "cell_type": "code",
      "execution_count": 5,
      "metadata": {
        "colab": {
          "base_uri": "https://localhost:8080/",
          "height": 430
        },
        "id": "Wr9M100pkgp4",
        "outputId": "50780a40-62a2-45ef-b486-a6e70dd93130"
      },
      "outputs": [
        {
          "data": {
            "image/png": "[encoded data removed]",
            "text/plain": [
              "<Figure size 640x480 with 1 Axes>"
            ]
          },
          "metadata": {},
          "output_type": "display_data"
        }
      ],
      "source": [
        "df.groupby('direction').size().plot(kind='barh', color=sns.palettes.mpl_palette('Dark2'))\n",
        "#df.groupby('direction'):\n",
        "#This groups the DataFrame df by the values in the direction column. Each unique value in the direction column will form a group.\n",
        "#.size():\n",
        "#this counts the number of rows in each group. The result is a Series where the index is the unique values from the direction column and the values are the counts of occurrences.\n",
        "#.plot(kind='barh', color=sns.palettes.mpl_palette('Dark2')):\n",
        "#This plots the counts as a horizontal bar plot. The kind='barh' specifies a horizontal bar plot.\n",
        "#color=sns.palettes.mpl_palette('Dark2') specifies the colors for the bars, using the 'Dark2' color palette from the seaborn library.\n",
        "plt.gca().spines[['top', 'right',]].set_visible(False)\n",
        "# plt.gca(): This function gets the current Axes instance on the current figure. If there is no current figure or axes, it creates them.\n",
        "# .spines: This attribute is a dictionary of the four spines ('top', 'bottom', 'left', 'right') of the plot.\n",
        "# [['top', 'right']]: This selects the top and right spines from the dictionary.\n",
        "# .set_visible(False): This method sets the visibility of the selected spines to False, making them invisible."
      ]
    },
    {
      "cell_type": "code",
      "execution_count": 6,
      "metadata": {
        "colab": {
          "base_uri": "https://localhost:8080/",
          "height": 428
        },
        "id": "_bw1ozNgkgnE",
        "outputId": "a284f729-168b-4d68-fbd9-81ee550e6ce0"
      },
      "outputs": [
        {
          "data": {
            "image/png": "[encoded data removed]",
            "text/plain": [
              "<Figure size 640x480 with 1 Axes>"
            ]
          },
          "metadata": {},
          "output_type": "display_data"
        }
      ],
      "source": [
        "plt.figure()\n",
        "df['direction'].value_counts().plot(kind='pie', autopct='%1.1f%%')\n",
        "# plt.figure(): This command creates a new figure in which the pie chart will be drawn. This is part of the matplotlib library, which is used for plotting in Python.\n",
        "# df['direction'].value_counts(): This command counts the occurrences of each unique value in the direction column of the DataFrame df. The result is a Series where the index represents the unique values from the direction column and the values are the counts of these unique values.\n",
        "# %1.1f tells Python to format the number as a floating-point number with one digit before the decimal point and one digit after. Here are a few examples to illustrate how it works:\n",
        "\n",
        "# If the value is 30.123, %1.1f would format it as 30.1.\n",
        "# If the value is 5.6789, %1.1f would format it as 5.7.\n",
        "# If the value is 0.12345, %1.1f would format it as 0.1.\n",
        "_ = plt.title('Frequency of AAPL Price Direction')"
      ]
    },
    {
      "cell_type": "code",
      "execution_count": 7,
      "metadata": {
        "colab": {
          "base_uri": "https://localhost:8080/",
          "height": 391
        },
        "id": "DOOP7sOQma6q",
        "outputId": "2147cf2d-e481-4443-eec7-5626037ab3db"
      },
      "outputs": [
        {
          "data": {
            "image/png": "[encoded data removed]",
            "text/plain": [
              "<Figure size 800x400 with 1 Axes>"
            ]
          },
          "metadata": {},
          "output_type": "display_data"
        }
      ],
      "source": [
        "df['AAPL.Close'].plot(kind='line', figsize=(8, 4), title='AAPL.Close')\n",
        "# figsize=(8, 4): This parameter sets the size of the figure (plot) in inches. In this case, the figure will be 8 inches wide and 4 inches tall. Adjusting these values can change the aspect ratio and the overall size of the plot.\n",
        "# title='AAPL.Close': This parameter sets the title of the plot.\n",
        "plt.gca().spines[['top', 'right']].set_visible(False)"
      ]
    },
    {
      "cell_type": "code",
      "execution_count": 8,
      "metadata": {
        "id": "RNYfrWy6kgkr"
      },
      "outputs": [],
      "source": [
        "x=df.iloc[:,1:10].values\n",
        "y=df.iloc[:,10].values"
      ]
    },
    {
      "cell_type": "code",
      "execution_count": 9,
      "metadata": {
        "colab": {
          "base_uri": "https://localhost:8080/"
        },
        "id": "lTW1KEy8kgia",
        "outputId": "b1cd528a-a34b-4efb-ee56-9c3e0b68e6dc"
      },
      "outputs": [
        {
          "name": "stdout",
          "output_type": "stream",
          "text": [
            "[[127.489998  128.880005  126.919998  ... 106.7410523 117.9276669\n",
            "  129.1142814]\n",
            " [127.629997  128.779999  127.449997  ... 107.842423  118.9403335\n",
            "  130.0382439]\n",
            " [128.479996  129.029999  128.330002  ... 108.8942449 119.8891668\n",
            "  130.8840887]\n",
            " ...\n",
            " [133.470001  135.089996  133.25      ... 115.1757183 125.9534992\n",
            "  136.7312801]\n",
            " [135.520004  136.270004  134.619995  ... 115.5450349 126.7234992\n",
            "  137.9019634]\n",
            " [135.669998  135.899994  134.839996  ... 116.2032988 127.5043325\n",
            "  138.8053662]]\n"
          ]
        }
      ],
      "source": [
        "print(x)"
      ]
    },
    {
      "cell_type": "code",
      "execution_count": 10,
      "metadata": {
        "colab": {
          "base_uri": "https://localhost:8080/"
        },
        "id": "y-F9lNbkkgfj",
        "outputId": "faddffee-a480-4e33-edf2-6aff3c36f612"
      },
      "outputs": [
        {
          "name": "stdout",
          "output_type": "stream",
          "text": [
            "['Increasing' 'Increasing' 'Decreasing' 'Increasing' 'Increasing'\n",
            " 'Decreasing' 'Decreasing' 'Increasing' 'Decreasing' 'Decreasing'\n",
            " 'Increasing' 'Decreasing' 'Decreasing' 'Decreasing' 'Decreasing'\n",
            " 'Decreasing' 'Decreasing' 'Increasing' 'Decreasing' 'Increasing'\n",
            " 'Increasing' 'Increasing' 'Decreasing' 'Decreasing' 'Increasing'\n",
            " 'Decreasing' 'Decreasing' 'Increasing' 'Decreasing' 'Increasing'\n",
            " 'Decreasing' 'Decreasing' 'Increasing' 'Increasing' 'Decreasing'\n",
            " 'Decreasing' 'Increasing' 'Increasing' 'Decreasing' 'Decreasing'\n",
            " 'Increasing' 'Decreasing' 'Decreasing' 'Increasing' 'Decreasing'\n",
            " 'Increasing' 'Increasing' 'Decreasing' 'Increasing' 'Decreasing'\n",
            " 'Decreasing' 'Decreasing' 'Increasing' 'Decreasing' 'Decreasing'\n",
            " 'Decreasing' 'Increasing' 'Increasing' 'Decreasing' 'Increasing'\n",
            " 'Decreasing' 'Increasing' 'Decreasing' 'Increasing' 'Decreasing'\n",
            " 'Increasing' 'Increasing' 'Increasing' 'Decreasing' 'Increasing'\n",
            " 'Decreasing' 'Decreasing' 'Increasing' 'Increasing' 'Decreasing'\n",
            " 'Decreasing' 'Decreasing' 'Decreasing' 'Increasing' 'Increasing'\n",
            " 'Decreasing' 'Decreasing' 'Increasing' 'Increasing' 'Decreasing'\n",
            " 'Increasing' 'Decreasing' 'Increasing' 'Decreasing' 'Increasing'\n",
            " 'Decreasing' 'Decreasing' 'Decreasing' 'Decreasing' 'Decreasing'\n",
            " 'Increasing' 'Increasing' 'Decreasing' 'Decreasing' 'Decreasing'\n",
            " 'Increasing' 'Increasing' 'Decreasing' 'Increasing' 'Increasing'\n",
            " 'Increasing' 'Increasing' 'Decreasing' 'Increasing' 'Decreasing'\n",
            " 'Decreasing' 'Decreasing' 'Increasing' 'Decreasing' 'Increasing'\n",
            " 'Decreasing' 'Decreasing' 'Decreasing' 'Increasing' 'Decreasing'\n",
            " 'Increasing' 'Increasing' 'Decreasing' 'Increasing' 'Decreasing'\n",
            " 'Increasing' 'Increasing' 'Increasing' 'Decreasing' 'Decreasing'\n",
            " 'Decreasing' 'Increasing' 'Decreasing' 'Increasing' 'Increasing'\n",
            " 'Increasing' 'Increasing' 'Decreasing' 'Increasing' 'Decreasing'\n",
            " 'Increasing' 'Increasing' 'Decreasing' 'Increasing' 'Increasing'\n",
            " 'Decreasing' 'Increasing' 'Increasing' 'Decreasing' 'Increasing'\n",
            " 'Increasing' 'Increasing' 'Increasing' 'Increasing' 'Decreasing'\n",
            " 'Decreasing' 'Decreasing' 'Increasing' 'Increasing' 'Increasing'\n",
            " 'Increasing' 'Increasing' 'Decreasing' 'Decreasing' 'Increasing'\n",
            " 'Decreasing' 'Increasing' 'Decreasing' 'Increasing' 'Decreasing'\n",
            " 'Increasing' 'Increasing' 'Decreasing' 'Increasing' 'Increasing'\n",
            " 'Decreasing' 'Decreasing' 'Increasing' 'Increasing' 'Decreasing'\n",
            " 'Increasing' 'Increasing' 'Decreasing' 'Decreasing' 'Decreasing'\n",
            " 'Decreasing' 'Decreasing' 'Decreasing' 'Decreasing' 'Decreasing'\n",
            " 'Increasing' 'Decreasing' 'Increasing' 'Increasing' 'Increasing'\n",
            " 'Decreasing' 'Increasing' 'Decreasing' 'Decreasing' 'Increasing'\n",
            " 'Decreasing' 'Decreasing' 'Decreasing' 'Increasing' 'Decreasing'\n",
            " 'Increasing' 'Decreasing' 'Increasing' 'Decreasing' 'Increasing'\n",
            " 'Decreasing' 'Increasing' 'Decreasing' 'Decreasing' 'Increasing'\n",
            " 'Decreasing' 'Increasing' 'Decreasing' 'Decreasing' 'Increasing'\n",
            " 'Decreasing' 'Decreasing' 'Increasing' 'Decreasing' 'Increasing'\n",
            " 'Decreasing' 'Decreasing' 'Decreasing' 'Decreasing' 'Decreasing'\n",
            " 'Increasing' 'Increasing' 'Decreasing' 'Increasing' 'Decreasing'\n",
            " 'Increasing' 'Decreasing' 'Increasing' 'Decreasing' 'Increasing'\n",
            " 'Increasing' 'Decreasing' 'Decreasing' 'Increasing' 'Increasing'\n",
            " 'Decreasing' 'Increasing' 'Increasing' 'Decreasing' 'Decreasing'\n",
            " 'Decreasing' 'Increasing' 'Increasing' 'Decreasing' 'Increasing'\n",
            " 'Increasing' 'Decreasing' 'Increasing' 'Increasing' 'Decreasing'\n",
            " 'Decreasing' 'Increasing' 'Increasing' 'Increasing' 'Increasing'\n",
            " 'Decreasing' 'Increasing' 'Decreasing' 'Decreasing' 'Increasing'\n",
            " 'Increasing' 'Increasing' 'Increasing' 'Increasing' 'Decreasing'\n",
            " 'Decreasing' 'Increasing' 'Decreasing' 'Increasing' 'Decreasing'\n",
            " 'Increasing' 'Increasing' 'Decreasing' 'Increasing' 'Increasing'\n",
            " 'Increasing' 'Increasing' 'Decreasing' 'Decreasing' 'Increasing'\n",
            " 'Increasing' 'Increasing' 'Increasing' 'Decreasing' 'Decreasing'\n",
            " 'Decreasing' 'Increasing' 'Decreasing' 'Increasing' 'Increasing'\n",
            " 'Increasing' 'Increasing' 'Decreasing' 'Decreasing' 'Decreasing'\n",
            " 'Increasing' 'Decreasing' 'Decreasing' 'Decreasing' 'Decreasing'\n",
            " 'Increasing' 'Decreasing' 'Decreasing' 'Increasing' 'Increasing'\n",
            " 'Decreasing' 'Increasing' 'Decreasing' 'Increasing' 'Increasing'\n",
            " 'Increasing' 'Increasing' 'Increasing' 'Increasing' 'Increasing'\n",
            " 'Decreasing' 'Increasing' 'Increasing' 'Increasing' 'Decreasing'\n",
            " 'Decreasing' 'Increasing' 'Increasing' 'Decreasing' 'Increasing'\n",
            " 'Decreasing' 'Increasing' 'Decreasing' 'Decreasing' 'Increasing'\n",
            " 'Decreasing' 'Increasing' 'Increasing' 'Decreasing' 'Increasing'\n",
            " 'Increasing' 'Increasing' 'Increasing' 'Decreasing' 'Increasing'\n",
            " 'Increasing' 'Increasing' 'Increasing' 'Increasing' 'Decreasing'\n",
            " 'Increasing' 'Decreasing' 'Increasing' 'Increasing' 'Decreasing'\n",
            " 'Decreasing' 'Decreasing' 'Decreasing' 'Decreasing' 'Decreasing'\n",
            " 'Increasing' 'Increasing' 'Increasing' 'Decreasing' 'Increasing'\n",
            " 'Increasing' 'Increasing' 'Increasing' 'Increasing' 'Decreasing'\n",
            " 'Decreasing' 'Increasing' 'Increasing' 'Decreasing' 'Increasing'\n",
            " 'Decreasing' 'Increasing' 'Decreasing' 'Increasing' 'Decreasing'\n",
            " 'Increasing' 'Decreasing' 'Increasing' 'Increasing' 'Increasing'\n",
            " 'Increasing' 'Increasing' 'Decreasing' 'Increasing' 'Decreasing'\n",
            " 'Decreasing' 'Increasing' 'Increasing' 'Increasing' 'Increasing'\n",
            " 'Decreasing' 'Decreasing' 'Increasing' 'Decreasing' 'Increasing'\n",
            " 'Decreasing' 'Increasing' 'Increasing' 'Increasing' 'Decreasing'\n",
            " 'Increasing' 'Decreasing' 'Decreasing' 'Decreasing' 'Increasing'\n",
            " 'Decreasing' 'Increasing' 'Decreasing' 'Decreasing' 'Increasing'\n",
            " 'Decreasing' 'Increasing' 'Decreasing' 'Decreasing' 'Increasing'\n",
            " 'Decreasing' 'Increasing' 'Increasing' 'Increasing' 'Decreasing'\n",
            " 'Decreasing' 'Decreasing' 'Decreasing' 'Increasing' 'Decreasing'\n",
            " 'Increasing' 'Increasing' 'Increasing' 'Increasing' 'Decreasing'\n",
            " 'Increasing' 'Decreasing' 'Increasing' 'Increasing' 'Increasing'\n",
            " 'Increasing' 'Increasing' 'Decreasing' 'Decreasing' 'Increasing'\n",
            " 'Increasing' 'Increasing' 'Decreasing' 'Decreasing' 'Increasing'\n",
            " 'Decreasing' 'Increasing' 'Increasing' 'Increasing' 'Increasing'\n",
            " 'Increasing' 'Increasing' 'Increasing' 'Increasing' 'Decreasing'\n",
            " 'Increasing' 'Increasing' 'Increasing' 'Decreasing' 'Increasing'\n",
            " 'Increasing' 'Decreasing' 'Increasing' 'Decreasing' 'Increasing'\n",
            " 'Increasing' 'Increasing' 'Increasing' 'Increasing' 'Increasing'\n",
            " 'Increasing' 'Increasing' 'Decreasing' 'Increasing' 'Decreasing'\n",
            " 'Increasing' 'Decreasing' 'Increasing' 'Increasing' 'Increasing'\n",
            " 'Increasing' 'Decreasing' 'Increasing' 'Increasing' 'Increasing'\n",
            " 'Increasing' 'Increasing' 'Increasing' 'Increasing' 'Increasing'\n",
            " 'Increasing' 'Decreasing' 'Increasing' 'Increasing' 'Decreasing'\n",
            " 'Decreasing']\n"
          ]
        },
        {
          "data": {
            "text/plain": [
              "dtype('O')"
            ]
          },
          "execution_count": 10,
          "metadata": {},
          "output_type": "execute_result"
        }
      ],
      "source": [
        "print(y)\n",
        "y.dtype"
      ]
    },
    {
      "cell_type": "code",
      "execution_count": 11,
      "metadata": {
        "colab": {
          "base_uri": "https://localhost:8080/"
        },
        "id": "_iBtqR20kgct",
        "outputId": "5f94cc64-4773-4ea9-e306-72c48e069fde"
      },
      "outputs": [
        {
          "name": "stdout",
          "output_type": "stream",
          "text": [
            "[1 1 0 1 1 0 0 1 0 0 1 0 0 0 0 0 0 1 0 1 1 1 0 0 1 0 0 1 0 1 0 0 1 1 0 0 1\n",
            " 1 0 0 1 0 0 1 0 1 1 0 1 0 0 0 1 0 0 0 1 1 0 1 0 1 0 1 0 1 1 1 0 1 0 0 1 1\n",
            " 0 0 0 0 1 1 0 0 1 1 0 1 0 1 0 1 0 0 0 0 0 1 1 0 0 0 1 1 0 1 1 1 1 0 1 0 0\n",
            " 0 1 0 1 0 0 0 1 0 1 1 0 1 0 1 1 1 0 0 0 1 0 1 1 1 1 0 1 0 1 1 0 1 1 0 1 1\n",
            " 0 1 1 1 1 1 0 0 0 1 1 1 1 1 0 0 1 0 1 0 1 0 1 1 0 1 1 0 0 1 1 0 1 1 0 0 0\n",
            " 0 0 0 0 0 1 0 1 1 1 0 1 0 0 1 0 0 0 1 0 1 0 1 0 1 0 1 0 0 1 0 1 0 0 1 0 0\n",
            " 1 0 1 0 0 0 0 0 1 1 0 1 0 1 0 1 0 1 1 0 0 1 1 0 1 1 0 0 0 1 1 0 1 1 0 1 1\n",
            " 0 0 1 1 1 1 0 1 0 0 1 1 1 1 1 0 0 1 0 1 0 1 1 0 1 1 1 1 0 0 1 1 1 1 0 0 0\n",
            " 1 0 1 1 1 1 0 0 0 1 0 0 0 0 1 0 0 1 1 0 1 0 1 1 1 1 1 1 1 0 1 1 1 0 0 1 1\n",
            " 0 1 0 1 0 0 1 0 1 1 0 1 1 1 1 0 1 1 1 1 1 0 1 0 1 1 0 0 0 0 0 0 1 1 1 0 1\n",
            " 1 1 1 1 0 0 1 1 0 1 0 1 0 1 0 1 0 1 1 1 1 1 0 1 0 0 1 1 1 1 0 0 1 0 1 0 1\n",
            " 1 1 0 1 0 0 0 1 0 1 0 0 1 0 1 0 0 1 0 1 1 1 0 0 0 0 1 0 1 1 1 1 0 1 0 1 1\n",
            " 1 1 1 0 0 1 1 1 0 0 1 0 1 1 1 1 1 1 1 1 0 1 1 1 0 1 1 0 1 0 1 1 1 1 1 1 1\n",
            " 1 0 1 0 1 0 1 1 1 1 0 1 1 1 1 1 1 1 1 1 0 1 1 0 0]\n"
          ]
        }
      ],
      "source": [
        "import numpy as np\n",
        "\n",
        "def convert_direction(direction_array):\n",
        "    \"\"\"\n",
        "    Convert a NumPy array of stock movement directions to binary values.\n",
        "    'increasing' -> 1\n",
        "    'decreasing' -> 0\n",
        "\n",
        "    Parameters:\n",
        "    direction_array (np.array): NumPy array containing stock movement directions as strings\n",
        "\n",
        "    Returns:\n",
        "    np.array: NumPy array with binary values (1 for increasing, 0 for decreasing)\n",
        "    \"\"\"\n",
        "    # Create a mapping from direction string to binary value\n",
        "    direction_mapping = {'Increasing': 1, 'Decreasing': 0}\n",
        "\n",
        "    # Vectorized conversion using NumPy\n",
        "    binary_array = np.vectorize(direction_mapping.get)(direction_array)\n",
        "\n",
        "    return binary_array\n",
        "\n",
        "y = convert_direction(y)\n",
        "print(y)\n"
      ]
    },
    {
      "cell_type": "code",
      "execution_count": 12,
      "metadata": {
        "id": "l6_-dAFNkgZi"
      },
      "outputs": [],
      "source": [
        "from sklearn.model_selection import train_test_split\n",
        "x_train, x_test, y_train, y_test=train_test_split(x,y,test_size=0.25,random_state=0)"
      ]
    },
    {
      "cell_type": "code",
      "execution_count": 13,
      "metadata": {
        "colab": {
          "base_uri": "https://localhost:8080/"
        },
        "id": "My0wY_4GkgW2",
        "outputId": "03211d59-2dd4-446b-ac16-f89b2fe87d66"
      },
      "outputs": [
        {
          "name": "stdout",
          "output_type": "stream",
          "text": [
            "[[-1.48550785 -1.54049746 -1.65379553 ... -1.26213645 -1.46388084\n",
            "  -1.60030572]\n",
            " [ 1.13072093  1.1608057   1.14804408 ...  1.44906521  1.39546499\n",
            "   1.26910057]\n",
            " [-0.70009918 -0.60550003 -0.61694407 ... -1.10232668 -1.03378574\n",
            "  -0.91010898]\n",
            " ...\n",
            " [ 0.39479415  0.33310331  0.10669212 ...  0.83675897  1.088974\n",
            "   1.29695815]\n",
            " [ 1.57065822  1.49892015  1.54496352 ...  1.43082615  1.28047045\n",
            "   1.05902799]\n",
            " [ 0.08710856  0.1419568   0.14719387 ...  0.06450213 -0.11969346\n",
            "  -0.30570689]] [[-1.14115222 -1.18159974 -1.08215999 ... -1.57886758 -1.6116509\n",
            "  -1.54145766]\n",
            " [-0.54315631 -0.51508634 -0.46286235 ... -1.19202698 -1.13597666\n",
            "  -1.00489781]\n",
            " [-0.48437873 -0.3625937  -0.40453507 ... -0.30797712 -0.04004958\n",
            "   0.23873848]\n",
            " ...\n",
            " [-1.67355622 -1.70418794 -1.62854881 ... -1.81516706 -1.06543067\n",
            "  -0.22378944]\n",
            " [ 0.28909796  0.23452716  0.25421912 ...  0.26713074  0.81666998\n",
            "   1.33049032]\n",
            " [-1.48615027 -1.52171017 -1.52304487 ... -1.4624376  -0.83030996\n",
            "  -0.12508126]]\n"
          ]
        }
      ],
      "source": [
        "from sklearn.preprocessing import StandardScaler\n",
        "st_x= StandardScaler()\n",
        "x_train=st_x.fit_transform(x_train)\n",
        "x_test=st_x.fit_transform(x_test)\n",
        "\n",
        "print(x_train, x_test)"
      ]
    },
    {
      "cell_type": "code",
      "execution_count": 14,
      "metadata": {
        "colab": {
          "base_uri": "https://localhost:8080/",
          "height": 74
        },
        "id": "4qMzktwfkgT-",
        "outputId": "744edda9-678f-45cb-da71-338c03b16997"
      },
      "outputs": [
        {
          "data": {
            "text/html": [
              "<style>#sk-container-id-1 {\n",
              "  /* Definition of color scheme common for light and dark mode */\n",
              "  --sklearn-color-text: black;\n",
              "  --sklearn-color-line: gray;\n",
              "  /* Definition of color scheme for unfitted estimators */\n",
              "  --sklearn-color-unfitted-level-0: #fff5e6;\n",
              "  --sklearn-color-unfitted-level-1: #f6e4d2;\n",
              "  --sklearn-color-unfitted-level-2: #ffe0b3;\n",
              "  --sklearn-color-unfitted-level-3: chocolate;\n",
              "  /* Definition of color scheme for fitted estimators */\n",
              "  --sklearn-color-fitted-level-0: #f0f8ff;\n",
              "  --sklearn-color-fitted-level-1: #d4ebff;\n",
              "  --sklearn-color-fitted-level-2: #b3dbfd;\n",
              "  --sklearn-color-fitted-level-3: cornflowerblue;\n",
              "\n",
              "  /* Specific color for light theme */\n",
              "  --sklearn-color-text-on-default-background: var(--sg-text-color, var(--theme-code-foreground, var(--jp-content-font-color1, black)));\n",
              "  --sklearn-color-background: var(--sg-background-color, var(--theme-background, var(--jp-layout-color0, white)));\n",
              "  --sklearn-color-border-box: var(--sg-text-color, var(--theme-code-foreground, var(--jp-content-font-color1, black)));\n",
              "  --sklearn-color-icon: #696969;\n",
              "\n",
              "  @media (prefers-color-scheme: dark) {\n",
              "    /* Redefinition of color scheme for dark theme */\n",
              "    --sklearn-color-text-on-default-background: var(--sg-text-color, var(--theme-code-foreground, var(--jp-content-font-color1, white)));\n",
              "    --sklearn-color-background: var(--sg-background-color, var(--theme-background, var(--jp-layout-color0, #111)));\n",
              "    --sklearn-color-border-box: var(--sg-text-color, var(--theme-code-foreground, var(--jp-content-font-color1, white)));\n",
              "    --sklearn-color-icon: #878787;\n",
              "  }\n",
              "}\n",
              "\n",
              "#sk-container-id-1 {\n",
              "  color: var(--sklearn-color-text);\n",
              "}\n",
              "\n",
              "#sk-container-id-1 pre {\n",
              "  padding: 0;\n",
              "}\n",
              "\n",
              "#sk-container-id-1 input.sk-hidden--visually {\n",
              "  border: 0;\n",
              "  clip: rect(1px 1px 1px 1px);\n",
              "  clip: rect(1px, 1px, 1px, 1px);\n",
              "  height: 1px;\n",
              "  margin: -1px;\n",
              "  overflow: hidden;\n",
              "  padding: 0;\n",
              "  position: absolute;\n",
              "  width: 1px;\n",
              "}\n",
              "\n",
              "#sk-container-id-1 div.sk-dashed-wrapped {\n",
              "  border: 1px dashed var(--sklearn-color-line);\n",
              "  margin: 0 0.4em 0.5em 0.4em;\n",
              "  box-sizing: border-box;\n",
              "  padding-bottom: 0.4em;\n",
              "  background-color: var(--sklearn-color-background);\n",
              "}\n",
              "\n",
              "#sk-container-id-1 div.sk-container {\n",
              "  /* jupyter's `normalize.less` sets `[hidden] { display: none; }`\n",
              "     but bootstrap.min.css set `[hidden] { display: none !important; }`\n",
              "     so we also need the `!important` here to be able to override the\n",
              "     default hidden behavior on the sphinx rendered scikit-learn.org.\n",
              "     See: https://github.com/scikit-learn/scikit-learn/issues/21755 */\n",
              "  display: inline-block !important;\n",
              "  position: relative;\n",
              "}\n",
              "\n",
              "#sk-container-id-1 div.sk-text-repr-fallback {\n",
              "  display: none;\n",
              "}\n",
              "\n",
              "div.sk-parallel-item,\n",
              "div.sk-serial,\n",
              "div.sk-item {\n",
              "  /* draw centered vertical line to link estimators */\n",
              "  background-image: linear-gradient(var(--sklearn-color-text-on-default-background), var(--sklearn-color-text-on-default-background));\n",
              "  background-size: 2px 100%;\n",
              "  background-repeat: no-repeat;\n",
              "  background-position: center center;\n",
              "}\n",
              "\n",
              "/* Parallel-specific style estimator block */\n",
              "\n",
              "#sk-container-id-1 div.sk-parallel-item::after {\n",
              "  content: \"\";\n",
              "  width: 100%;\n",
              "  border-bottom: 2px solid var(--sklearn-color-text-on-default-background);\n",
              "  flex-grow: 1;\n",
              "}\n",
              "\n",
              "#sk-container-id-1 div.sk-parallel {\n",
              "  display: flex;\n",
              "  align-items: stretch;\n",
              "  justify-content: center;\n",
              "  background-color: var(--sklearn-color-background);\n",
              "  position: relative;\n",
              "}\n",
              "\n",
              "#sk-container-id-1 div.sk-parallel-item {\n",
              "  display: flex;\n",
              "  flex-direction: column;\n",
              "}\n",
              "\n",
              "#sk-container-id-1 div.sk-parallel-item:first-child::after {\n",
              "  align-self: flex-end;\n",
              "  width: 50%;\n",
              "}\n",
              "\n",
              "#sk-container-id-1 div.sk-parallel-item:last-child::after {\n",
              "  align-self: flex-start;\n",
              "  width: 50%;\n",
              "}\n",
              "\n",
              "#sk-container-id-1 div.sk-parallel-item:only-child::after {\n",
              "  width: 0;\n",
              "}\n",
              "\n",
              "/* Serial-specific style estimator block */\n",
              "\n",
              "#sk-container-id-1 div.sk-serial {\n",
              "  display: flex;\n",
              "  flex-direction: column;\n",
              "  align-items: center;\n",
              "  background-color: var(--sklearn-color-background);\n",
              "  padding-right: 1em;\n",
              "  padding-left: 1em;\n",
              "}\n",
              "\n",
              "\n",
              "/* Toggleable style: style used for estimator/Pipeline/ColumnTransformer box that is\n",
              "clickable and can be expanded/collapsed.\n",
              "- Pipeline and ColumnTransformer use this feature and define the default style\n",
              "- Estimators will overwrite some part of the style using the `sk-estimator` class\n",
              "*/\n",
              "\n",
              "/* Pipeline and ColumnTransformer style (default) */\n",
              "\n",
              "#sk-container-id-1 div.sk-toggleable {\n",
              "  /* Default theme specific background. It is overwritten whether we have a\n",
              "  specific estimator or a Pipeline/ColumnTransformer */\n",
              "  background-color: var(--sklearn-color-background);\n",
              "}\n",
              "\n",
              "/* Toggleable label */\n",
              "#sk-container-id-1 label.sk-toggleable__label {\n",
              "  cursor: pointer;\n",
              "  display: block;\n",
              "  width: 100%;\n",
              "  margin-bottom: 0;\n",
              "  padding: 0.5em;\n",
              "  box-sizing: border-box;\n",
              "  text-align: center;\n",
              "}\n",
              "\n",
              "#sk-container-id-1 label.sk-toggleable__label-arrow:before {\n",
              "  /* Arrow on the left of the label */\n",
              "  content: \"▸\";\n",
              "  float: left;\n",
              "  margin-right: 0.25em;\n",
              "  color: var(--sklearn-color-icon);\n",
              "}\n",
              "\n",
              "#sk-container-id-1 label.sk-toggleable__label-arrow:hover:before {\n",
              "  color: var(--sklearn-color-text);\n",
              "}\n",
              "\n",
              "/* Toggleable content - dropdown */\n",
              "\n",
              "#sk-container-id-1 div.sk-toggleable__content {\n",
              "  max-height: 0;\n",
              "  max-width: 0;\n",
              "  overflow: hidden;\n",
              "  text-align: left;\n",
              "  /* unfitted */\n",
              "  background-color: var(--sklearn-color-unfitted-level-0);\n",
              "}\n",
              "\n",
              "#sk-container-id-1 div.sk-toggleable__content.fitted {\n",
              "  /* fitted */\n",
              "  background-color: var(--sklearn-color-fitted-level-0);\n",
              "}\n",
              "\n",
              "#sk-container-id-1 div.sk-toggleable__content pre {\n",
              "  margin: 0.2em;\n",
              "  border-radius: 0.25em;\n",
              "  color: var(--sklearn-color-text);\n",
              "  /* unfitted */\n",
              "  background-color: var(--sklearn-color-unfitted-level-0);\n",
              "}\n",
              "\n",
              "#sk-container-id-1 div.sk-toggleable__content.fitted pre {\n",
              "  /* unfitted */\n",
              "  background-color: var(--sklearn-color-fitted-level-0);\n",
              "}\n",
              "\n",
              "#sk-container-id-1 input.sk-toggleable__control:checked~div.sk-toggleable__content {\n",
              "  /* Expand drop-down */\n",
              "  max-height: 200px;\n",
              "  max-width: 100%;\n",
              "  overflow: auto;\n",
              "}\n",
              "\n",
              "#sk-container-id-1 input.sk-toggleable__control:checked~label.sk-toggleable__label-arrow:before {\n",
              "  content: \"▾\";\n",
              "}\n",
              "\n",
              "/* Pipeline/ColumnTransformer-specific style */\n",
              "\n",
              "#sk-container-id-1 div.sk-label input.sk-toggleable__control:checked~label.sk-toggleable__label {\n",
              "  color: var(--sklearn-color-text);\n",
              "  background-color: var(--sklearn-color-unfitted-level-2);\n",
              "}\n",
              "\n",
              "#sk-container-id-1 div.sk-label.fitted input.sk-toggleable__control:checked~label.sk-toggleable__label {\n",
              "  background-color: var(--sklearn-color-fitted-level-2);\n",
              "}\n",
              "\n",
              "/* Estimator-specific style */\n",
              "\n",
              "/* Colorize estimator box */\n",
              "#sk-container-id-1 div.sk-estimator input.sk-toggleable__control:checked~label.sk-toggleable__label {\n",
              "  /* unfitted */\n",
              "  background-color: var(--sklearn-color-unfitted-level-2);\n",
              "}\n",
              "\n",
              "#sk-container-id-1 div.sk-estimator.fitted input.sk-toggleable__control:checked~label.sk-toggleable__label {\n",
              "  /* fitted */\n",
              "  background-color: var(--sklearn-color-fitted-level-2);\n",
              "}\n",
              "\n",
              "#sk-container-id-1 div.sk-label label.sk-toggleable__label,\n",
              "#sk-container-id-1 div.sk-label label {\n",
              "  /* The background is the default theme color */\n",
              "  color: var(--sklearn-color-text-on-default-background);\n",
              "}\n",
              "\n",
              "/* On hover, darken the color of the background */\n",
              "#sk-container-id-1 div.sk-label:hover label.sk-toggleable__label {\n",
              "  color: var(--sklearn-color-text);\n",
              "  background-color: var(--sklearn-color-unfitted-level-2);\n",
              "}\n",
              "\n",
              "/* Label box, darken color on hover, fitted */\n",
              "#sk-container-id-1 div.sk-label.fitted:hover label.sk-toggleable__label.fitted {\n",
              "  color: var(--sklearn-color-text);\n",
              "  background-color: var(--sklearn-color-fitted-level-2);\n",
              "}\n",
              "\n",
              "/* Estimator label */\n",
              "\n",
              "#sk-container-id-1 div.sk-label label {\n",
              "  font-family: monospace;\n",
              "  font-weight: bold;\n",
              "  display: inline-block;\n",
              "  line-height: 1.2em;\n",
              "}\n",
              "\n",
              "#sk-container-id-1 div.sk-label-container {\n",
              "  text-align: center;\n",
              "}\n",
              "\n",
              "/* Estimator-specific */\n",
              "#sk-container-id-1 div.sk-estimator {\n",
              "  font-family: monospace;\n",
              "  border: 1px dotted var(--sklearn-color-border-box);\n",
              "  border-radius: 0.25em;\n",
              "  box-sizing: border-box;\n",
              "  margin-bottom: 0.5em;\n",
              "  /* unfitted */\n",
              "  background-color: var(--sklearn-color-unfitted-level-0);\n",
              "}\n",
              "\n",
              "#sk-container-id-1 div.sk-estimator.fitted {\n",
              "  /* fitted */\n",
              "  background-color: var(--sklearn-color-fitted-level-0);\n",
              "}\n",
              "\n",
              "/* on hover */\n",
              "#sk-container-id-1 div.sk-estimator:hover {\n",
              "  /* unfitted */\n",
              "  background-color: var(--sklearn-color-unfitted-level-2);\n",
              "}\n",
              "\n",
              "#sk-container-id-1 div.sk-estimator.fitted:hover {\n",
              "  /* fitted */\n",
              "  background-color: var(--sklearn-color-fitted-level-2);\n",
              "}\n",
              "\n",
              "/* Specification for estimator info (e.g. \"i\" and \"?\") */\n",
              "\n",
              "/* Common style for \"i\" and \"?\" */\n",
              "\n",
              ".sk-estimator-doc-link,\n",
              "a:link.sk-estimator-doc-link,\n",
              "a:visited.sk-estimator-doc-link {\n",
              "  float: right;\n",
              "  font-size: smaller;\n",
              "  line-height: 1em;\n",
              "  font-family: monospace;\n",
              "  background-color: var(--sklearn-color-background);\n",
              "  border-radius: 1em;\n",
              "  height: 1em;\n",
              "  width: 1em;\n",
              "  text-decoration: none !important;\n",
              "  margin-left: 1ex;\n",
              "  /* unfitted */\n",
              "  border: var(--sklearn-color-unfitted-level-1) 1pt solid;\n",
              "  color: var(--sklearn-color-unfitted-level-1);\n",
              "}\n",
              "\n",
              ".sk-estimator-doc-link.fitted,\n",
              "a:link.sk-estimator-doc-link.fitted,\n",
              "a:visited.sk-estimator-doc-link.fitted {\n",
              "  /* fitted */\n",
              "  border: var(--sklearn-color-fitted-level-1) 1pt solid;\n",
              "  color: var(--sklearn-color-fitted-level-1);\n",
              "}\n",
              "\n",
              "/* On hover */\n",
              "div.sk-estimator:hover .sk-estimator-doc-link:hover,\n",
              ".sk-estimator-doc-link:hover,\n",
              "div.sk-label-container:hover .sk-estimator-doc-link:hover,\n",
              ".sk-estimator-doc-link:hover {\n",
              "  /* unfitted */\n",
              "  background-color: var(--sklearn-color-unfitted-level-3);\n",
              "  color: var(--sklearn-color-background);\n",
              "  text-decoration: none;\n",
              "}\n",
              "\n",
              "div.sk-estimator.fitted:hover .sk-estimator-doc-link.fitted:hover,\n",
              ".sk-estimator-doc-link.fitted:hover,\n",
              "div.sk-label-container:hover .sk-estimator-doc-link.fitted:hover,\n",
              ".sk-estimator-doc-link.fitted:hover {\n",
              "  /* fitted */\n",
              "  background-color: var(--sklearn-color-fitted-level-3);\n",
              "  color: var(--sklearn-color-background);\n",
              "  text-decoration: none;\n",
              "}\n",
              "\n",
              "/* Span, style for the box shown on hovering the info icon */\n",
              ".sk-estimator-doc-link span {\n",
              "  display: none;\n",
              "  z-index: 9999;\n",
              "  position: relative;\n",
              "  font-weight: normal;\n",
              "  right: .2ex;\n",
              "  padding: .5ex;\n",
              "  margin: .5ex;\n",
              "  width: min-content;\n",
              "  min-width: 20ex;\n",
              "  max-width: 50ex;\n",
              "  color: var(--sklearn-color-text);\n",
              "  box-shadow: 2pt 2pt 4pt #999;\n",
              "  /* unfitted */\n",
              "  background: var(--sklearn-color-unfitted-level-0);\n",
              "  border: .5pt solid var(--sklearn-color-unfitted-level-3);\n",
              "}\n",
              "\n",
              ".sk-estimator-doc-link.fitted span {\n",
              "  /* fitted */\n",
              "  background: var(--sklearn-color-fitted-level-0);\n",
              "  border: var(--sklearn-color-fitted-level-3);\n",
              "}\n",
              "\n",
              ".sk-estimator-doc-link:hover span {\n",
              "  display: block;\n",
              "}\n",
              "\n",
              "/* \"?\"-specific style due to the `<a>` HTML tag */\n",
              "\n",
              "#sk-container-id-1 a.estimator_doc_link {\n",
              "  float: right;\n",
              "  font-size: 1rem;\n",
              "  line-height: 1em;\n",
              "  font-family: monospace;\n",
              "  background-color: var(--sklearn-color-background);\n",
              "  border-radius: 1rem;\n",
              "  height: 1rem;\n",
              "  width: 1rem;\n",
              "  text-decoration: none;\n",
              "  /* unfitted */\n",
              "  color: var(--sklearn-color-unfitted-level-1);\n",
              "  border: var(--sklearn-color-unfitted-level-1) 1pt solid;\n",
              "}\n",
              "\n",
              "#sk-container-id-1 a.estimator_doc_link.fitted {\n",
              "  /* fitted */\n",
              "  border: var(--sklearn-color-fitted-level-1) 1pt solid;\n",
              "  color: var(--sklearn-color-fitted-level-1);\n",
              "}\n",
              "\n",
              "/* On hover */\n",
              "#sk-container-id-1 a.estimator_doc_link:hover {\n",
              "  /* unfitted */\n",
              "  background-color: var(--sklearn-color-unfitted-level-3);\n",
              "  color: var(--sklearn-color-background);\n",
              "  text-decoration: none;\n",
              "}\n",
              "\n",
              "#sk-container-id-1 a.estimator_doc_link.fitted:hover {\n",
              "  /* fitted */\n",
              "  background-color: var(--sklearn-color-fitted-level-3);\n",
              "}\n",
              "</style><div id=\"sk-container-id-1\" class=\"sk-top-container\"><div class=\"sk-text-repr-fallback\"><pre>KNeighborsClassifier()</pre><b>In a Jupyter environment, please rerun this cell to show the HTML representation or trust the notebook. <br />On GitHub, the HTML representation is unable to render, please try loading this page with nbviewer.org.</b></div><div class=\"sk-container\" hidden><div class=\"sk-item\"><div class=\"sk-estimator fitted sk-toggleable\"><input class=\"sk-toggleable__control sk-hidden--visually\" id=\"sk-estimator-id-1\" type=\"checkbox\" checked><label for=\"sk-estimator-id-1\" class=\"sk-toggleable__label fitted sk-toggleable__label-arrow fitted\">&nbsp;&nbsp;KNeighborsClassifier<a class=\"sk-estimator-doc-link fitted\" rel=\"noreferrer\" target=\"_blank\" href=\"https://scikit-learn.org/1.5/modules/generated/sklearn.neighbors.KNeighborsClassifier.html\">?<span>Documentation for KNeighborsClassifier</span></a><span class=\"sk-estimator-doc-link fitted\">i<span>Fitted</span></span></label><div class=\"sk-toggleable__content fitted\"><pre>KNeighborsClassifier()</pre></div> </div></div></div></div>"
            ],
            "text/plain": [
              "KNeighborsClassifier()"
            ]
          },
          "execution_count": 14,
          "metadata": {},
          "output_type": "execute_result"
        }
      ],
      "source": [
        "from sklearn.neighbors import KNeighborsClassifier\n",
        "classifier = KNeighborsClassifier(n_neighbors=5, metric='minkowski',p=2)\n",
        "classifier.fit(x_train, y_train)"
      ]
    },
    {
      "cell_type": "code",
      "execution_count": 15,
      "metadata": {
        "colab": {
          "base_uri": "https://localhost:8080/"
        },
        "id": "FfxQeNRykgIC",
        "outputId": "2401f747-d799-4dc1-dde5-c166c61421ec"
      },
      "outputs": [
        {
          "name": "stdout",
          "output_type": "stream",
          "text": [
            "[0 1 1 1 1 0 1 0 0 1 1 0 1 1 1 1 1 1 0 1 1 1 0 1 0 1 1 1 0 1 1 1 1 1 1 1 1\n",
            " 1 0 1 0 1 0 0 1 1 1 1 1 0 1 1 0 1 0 1 0 1 1 0 0 1 0 0 1 0 1 0 1 0 0 1 0 0\n",
            " 1 1 1 1 0 1 0 1 0 0 1 1 0 1 1 1 0 1 0 0 1 1 1 0 1 0 1 0 1 1 1 0 1 1 1 1 1\n",
            " 1 0 0 0 0 1 0 1 1 0 0 0 1 0 1 0]\n"
          ]
        }
      ],
      "source": [
        "y_p=classifier.predict(x_test)\n",
        "print(y_p)"
      ]
    },
    {
      "cell_type": "code",
      "execution_count": 16,
      "metadata": {
        "colab": {
          "base_uri": "https://localhost:8080/"
        },
        "id": "aY19RWs_lbuW",
        "outputId": "a609e308-8b73-4067-d5ef-2b0fc3aa72e7"
      },
      "outputs": [
        {
          "name": "stdout",
          "output_type": "stream",
          "text": [
            "[[26 23]\n",
            " [29 49]]\n"
          ]
        }
      ],
      "source": [
        "from sklearn.metrics import confusion_matrix\n",
        "cm=confusion_matrix(y_p,y_test)\n",
        "print(cm)"
      ]
    },
    {
      "cell_type": "code",
      "execution_count": 17,
      "metadata": {
        "colab": {
          "base_uri": "https://localhost:8080/",
          "height": 527
        },
        "id": "5z8Z1uWClbjM",
        "outputId": "6937376b-3454-45c8-e256-f48548f40b0f"
      },
      "outputs": [
        {
          "name": "stderr",
          "output_type": "stream",
          "text": [
            "C:\\Users\\Diptanu Sarkar\\AppData\\Local\\Temp\\ipykernel_23672\\809863865.py:25: UserWarning: *c* argument looks like a single numeric RGB or RGBA sequence, which should be avoided as value-mapping will have precedence in case its length matches with *x* & *y*.  Please use the *color* keyword-argument or provide a 2D array with a single row if you intend to specify the same RGB or RGBA value for all points.\n",
            "  plt.scatter(x_set[y_set == j, 0], x_set[y_set == j, 1],\n"
          ]
        },
        {
          "data": {
            "image/png": "[encoded data removed]",
            "text/plain": [
              "<Figure size 640x480 with 1 Axes>"
            ]
          },
          "metadata": {},
          "output_type": "display_data"
        }
      ],
      "source": [
        "from matplotlib.colors import ListedColormap\n",
        "from sklearn.decomposition import PCA\n",
        "\n",
        "# Apply PCA to reduce the features to 2 dimensions for visualization\n",
        "pca = PCA(n_components=2)\n",
        "X_train_pca = pca.fit_transform(x_train)\n",
        "X_test_pca = pca.transform(x_test)\n",
        "\n",
        "# Visualize the decision boundary on the PCA-reduced test set\n",
        "x_set, y_set = X_test_pca, y_test\n",
        "x1, x2 = np.meshgrid(\n",
        "    np.arange(start=x_set[:, 0].min() - 1, stop=x_set[:, 0].max() + 1, step=0.01),\n",
        "    np.arange(start=x_set[:, 1].min() - 1, stop=x_set[:, 1].max() + 1, step=0.01)\n",
        ")\n",
        "\n",
        "grid_points = np.array([x1.ravel(), x2.ravel()]).T\n",
        "grid_points_original_space = pca.inverse_transform(grid_points)\n",
        "predictions = classifier.predict(grid_points_original_space).reshape(x1.shape)\n",
        "\n",
        "plt.contourf(x1, x2, predictions, alpha=0.75, cmap=ListedColormap(('red', 'green')))\n",
        "plt.xlim(x1.min(), x1.max())\n",
        "plt.ylim(x2.min(), x2.max())\n",
        "\n",
        "for i, j in enumerate(np.unique(y_set)):\n",
        "    plt.scatter(x_set[y_set == j, 0], x_set[y_set == j, 1],\n",
        "                c=ListedColormap(('black', 'yellow'))(i), label=j)\n",
        "\n",
        "plt.title('K-NN algorithm (Test set)')\n",
        "plt.xlabel('PCA Component 1')\n",
        "plt.ylabel('PCA Component 2')\n",
        "plt.legend()\n",
        "plt.show()\n"
      ]
    }
  ],
  "metadata": {
    "colab": {
      "provenance": []
    },
    "kernelspec": {
      "display_name": "Python 3",
      "name": "python3"
    },
    "language_info": {
      "codemirror_mode": {
        "name": "ipython",
        "version": 3
      },
      "file_extension": ".py",
      "mimetype": "text/x-python",
      "name": "python",
      "nbconvert_exporter": "python",
      "pygments_lexer": "ipython3",
      "version": "3.12.0"
    }
  },
  "nbformat": 4,
  "nbformat_minor": 0
}
